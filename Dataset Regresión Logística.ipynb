{
 "cells": [
  {
   "cell_type": "raw",
   "id": "cd6cc68b-e4d6-48bb-88fc-464bd4ac68bc",
   "metadata": {
    "jupyter": {
     "source_hidden": true
    }
   },
   "source": [
    "1. Realizar un análisis exploratorio de los datos para identificar relaciones entre variables, valores atípicos, tendencias, etc."
   ]
  },
  {
   "cell_type": "code",
   "execution_count": 2,
   "id": "8ba865ed-1142-4cf0-8794-998bca22ce04",
   "metadata": {
    "jupyter": {
     "source_hidden": true
    }
   },
   "outputs": [],
   "source": [
    "# Cargar Librerias Necesarias\n",
    "import pandas as pd  # Para la manipulación y análisis de datos\n",
    "import numpy as np  # Para operaciones numéricas\n",
    "import matplotlib.pyplot as plt  # Para crear gráficos y visualizaciones\n",
    "import seaborn as sns  # Para crear gráficos estadísticos atractivos\n",
    "\n",
    "#LIbrerias de para implementar modelos de  ciencia de datos\n",
    "from sklearn import metrics, model_selection\n",
    "from sklearn.model_selection import train_test_split\n",
    "from sklearn.linear_model import LogisticRegression\n",
    "#Libreria para regresión lineal\n",
    "from sklearn.metrics import classification_report, confusion_matrix"
   ]
  },
  {
   "cell_type": "code",
   "execution_count": 50,
   "id": "5fdf514a-b2f3-4ffa-8a58-ac7fe3dc7427",
   "metadata": {},
   "outputs": [],
   "source": [
    "#Lectura de datos en phyton y lo cargamos en la variable Datos\n",
    "\n",
    "# Lee el archivo CSV\n",
    "Datos = pd.read_csv(r'C:\\Users\\Skigdot\\Documents\\UNAD\\PERIODO 16-01\\ANÁLISIS DE DATOS\\Tarea 3\\heart_cleveland_upload.csv')\n"
   ]
  },
  {
   "cell_type": "code",
   "execution_count": 51,
   "id": "0a808130-6ac8-450c-9ea7-e93a13cbd1a4",
   "metadata": {},
   "outputs": [
    {
     "name": "stdout",
     "output_type": "stream",
     "text": [
      "    age  sex  cp  trestbps  chol  fbs  restecg  thalach  exang  oldpeak  \\\n",
      "0    69    1   0       160   234    1        2      131      0      0.1   \n",
      "1    69    0   0       140   239    0        0      151      0      1.8   \n",
      "2    66    0   0       150   226    0        0      114      0      2.6   \n",
      "3    65    1   0       138   282    1        2      174      0      1.4   \n",
      "4    64    1   0       110   211    0        2      144      1      1.8   \n",
      "5    64    1   0       170   227    0        2      155      0      0.6   \n",
      "6    63    1   0       145   233    1        2      150      0      2.3   \n",
      "7    61    1   0       134   234    0        0      145      0      2.6   \n",
      "8    60    0   0       150   240    0        0      171      0      0.9   \n",
      "9    59    1   0       178   270    0        2      145      0      4.2   \n",
      "10   59    1   0       170   288    0        2      159      0      0.2   \n",
      "11   59    1   0       160   273    0        2      125      0      0.0   \n",
      "12   59    1   0       134   204    0        0      162      0      0.8   \n",
      "13   58    0   0       150   283    1        2      162      0      1.0   \n",
      "14   56    1   0       120   193    0        2      162      0      1.9   \n",
      "15   52    1   0       118   186    0        2      190      0      0.0   \n",
      "16   52    1   0       152   298    1        0      178      0      1.2   \n",
      "17   51    1   0       125   213    0        2      125      1      1.4   \n",
      "18   45    1   0       110   264    0        0      132      0      1.2   \n",
      "19   42    1   0       148   244    0        2      178      0      0.8   \n",
      "20   40    1   0       140   199    0        0      178      1      1.4   \n",
      "21   38    1   0       120   231    0        0      182      1      3.8   \n",
      "22   34    1   0       118   182    0        2      174      0      0.0   \n",
      "23   74    0   1       120   269    0        2      121      1      0.2   \n",
      "24   71    0   1       160   302    0        0      162      0      0.4   \n",
      "25   70    1   1       156   245    0        2      143      0      0.0   \n",
      "26   66    1   1       160   246    0        0      120      1      0.0   \n",
      "27   63    0   1       140   195    0        0      179      0      0.0   \n",
      "28   62    1   1       120   281    0        2      103      0      1.4   \n",
      "29   62    1   1       128   208    1        2      140      0      0.0   \n",
      "30   59    1   1       140   221    0        0      164      1      0.0   \n",
      "31   58    1   1       120   284    0        2      160      0      1.8   \n",
      "32   58    0   1       136   319    1        2      152      0      0.0   \n",
      "33   57    0   1       130   236    0        2      174      0      0.0   \n",
      "34   57    1   1       124   261    0        0      141      0      0.3   \n",
      "35   57    1   1       154   232    0        2      164      0      0.0   \n",
      "36   56    1   1       120   240    0        0      169      0      0.0   \n",
      "37   56    0   1       140   294    0        2      153      0      1.3   \n",
      "38   56    1   1       120   236    0        0      178      0      0.8   \n",
      "39   56    1   1       130   221    0        2      163      0      0.0   \n",
      "40   55    0   1       135   250    0        2      161      0      1.4   \n",
      "41   55    1   1       130   262    0        0      155      0      0.0   \n",
      "42   55    0   1       132   342    0        0      166      0      1.2   \n",
      "43   54    1   1       108   309    0        0      156      0      0.0   \n",
      "44   54    0   1       132   288    1        2      159      1      0.0   \n",
      "45   54    1   1       192   283    0        2      195      0      0.0   \n",
      "46   52    1   1       120   325    0        0      172      0      0.2   \n",
      "47   52    1   1       134   201    0        0      158      0      0.8   \n",
      "48   52    1   1       128   205    1        0      184      0      0.0   \n",
      "49   50    0   1       120   244    0        0      162      0      1.1   \n",
      "\n",
      "    slope  ca  thal  condition  \n",
      "0       1   1     0          0  \n",
      "1       0   2     0          0  \n",
      "2       2   0     0          0  \n",
      "3       1   1     0          1  \n",
      "4       1   0     0          0  \n",
      "5       1   0     2          0  \n",
      "6       2   0     1          0  \n",
      "7       1   2     0          1  \n",
      "8       0   0     0          0  \n",
      "9       2   0     2          0  \n",
      "10      1   0     2          1  \n",
      "11      0   0     0          1  \n",
      "12      0   2     0          1  \n",
      "13      0   0     0          0  \n",
      "14      1   0     2          0  \n",
      "15      1   0     1          0  \n",
      "16      1   0     2          0  \n",
      "17      0   1     0          0  \n",
      "18      1   0     2          1  \n",
      "19      0   2     0          0  \n",
      "20      0   0     2          0  \n",
      "21      1   0     2          1  \n",
      "22      0   0     0          0  \n",
      "23      0   1     0          0  \n",
      "24      0   2     0          0  \n",
      "25      0   0     0          0  \n",
      "26      1   3     1          1  \n",
      "27      0   2     0          0  \n",
      "28      1   1     2          1  \n",
      "29      0   0     0          0  \n",
      "30      0   0     0          0  \n",
      "31      1   0     0          1  \n",
      "32      0   2     0          1  \n",
      "33      1   1     0          1  \n",
      "34      0   0     2          1  \n",
      "35      0   1     0          1  \n",
      "36      2   0     0          0  \n",
      "37      1   0     0          0  \n",
      "38      0   0     0          0  \n",
      "39      0   0     2          0  \n",
      "40      1   0     0          0  \n",
      "41      0   0     0          0  \n",
      "42      0   0     0          0  \n",
      "43      0   0     2          0  \n",
      "44      0   1     0          0  \n",
      "45      0   1     2          1  \n",
      "46      0   0     0          0  \n",
      "47      0   1     0          0  \n",
      "48      0   0     0          0  \n",
      "49      0   0     0          0  \n"
     ]
    }
   ],
   "source": [
    "#Realizamos lectura de los datos para el analisis exploratorio\n",
    "# Mostramos las primeras 50 filas del DataFrame\n",
    "print(Datos.head(50))"
   ]
  },
  {
   "cell_type": "code",
   "execution_count": 52,
   "id": "6541f547-08ca-4521-9c04-a8ec79521b9d",
   "metadata": {
    "scrolled": true
   },
   "outputs": [
    {
     "name": "stdout",
     "output_type": "stream",
     "text": [
      "              age         sex          cp    trestbps        chol         fbs  \\\n",
      "count  297.000000  297.000000  297.000000  297.000000  297.000000  297.000000   \n",
      "mean    54.542088    0.676768    2.158249  131.693603  247.350168    0.144781   \n",
      "std      9.049736    0.468500    0.964859   17.762806   51.997583    0.352474   \n",
      "min     29.000000    0.000000    0.000000   94.000000  126.000000    0.000000   \n",
      "25%     48.000000    0.000000    2.000000  120.000000  211.000000    0.000000   \n",
      "50%     56.000000    1.000000    2.000000  130.000000  243.000000    0.000000   \n",
      "75%     61.000000    1.000000    3.000000  140.000000  276.000000    0.000000   \n",
      "max     77.000000    1.000000    3.000000  200.000000  564.000000    1.000000   \n",
      "\n",
      "          restecg     thalach       exang     oldpeak       slope          ca  \\\n",
      "count  297.000000  297.000000  297.000000  297.000000  297.000000  297.000000   \n",
      "mean     0.996633  149.599327    0.326599    1.055556    0.602694    0.676768   \n",
      "std      0.994914   22.941562    0.469761    1.166123    0.618187    0.938965   \n",
      "min      0.000000   71.000000    0.000000    0.000000    0.000000    0.000000   \n",
      "25%      0.000000  133.000000    0.000000    0.000000    0.000000    0.000000   \n",
      "50%      1.000000  153.000000    0.000000    0.800000    1.000000    0.000000   \n",
      "75%      2.000000  166.000000    1.000000    1.600000    1.000000    1.000000   \n",
      "max      2.000000  202.000000    1.000000    6.200000    2.000000    3.000000   \n",
      "\n",
      "             thal   condition  \n",
      "count  297.000000  297.000000  \n",
      "mean     0.835017    0.461279  \n",
      "std      0.956690    0.499340  \n",
      "min      0.000000    0.000000  \n",
      "25%      0.000000    0.000000  \n",
      "50%      0.000000    0.000000  \n",
      "75%      2.000000    1.000000  \n",
      "max      2.000000    1.000000  \n"
     ]
    }
   ],
   "source": [
    "#Descripcion de datos\n",
    "descripcion = Datos.describe()\n",
    "print(descripcion)"
   ]
  },
  {
   "cell_type": "code",
   "execution_count": 67,
   "id": "5febd76e-8107-4b27-8a1a-5658cbcda485",
   "metadata": {},
   "outputs": [
    {
     "data": {
      "image/png": "[encoded data removed]",
      "text/plain": [
       "<Figure size 800x600 with 1 Axes>"
      ]
     },
     "metadata": {},
     "output_type": "display_data"
    }
   ],
   "source": [
    "#identificación de Datos Faltantes y Atipicos\n",
    "\n",
    "# Crear una figura de matplotlib\n",
    "plt.figure(figsize=(8, 6))  # Tamaño de la figura\n",
    "\n",
    "# Crear un diagrama de caja (boxplot) con Seaborn\n",
    "sns.boxplot(x='trestbps', data=Datos) \n",
    "\n",
    "# Agregar un título al gráfico con fuente de tamaño 10\n",
    "plt.title('Identificación de Datos Faltantes y Atípicos', fontsize=10)\n",
    "\n",
    "# Mostrar el gráfico\n",
    "plt.show()"
   ]
  },
  {
   "cell_type": "raw",
   "id": "7c693e2b-318d-48df-94a6-1f0034a58c35",
   "metadata": {},
   "source": [
    "2. Preprocesar los datos limpiándolos, tratando valores faltantes y transformándolos según sea necesario"
   ]
  },
  {
   "cell_type": "code",
   "execution_count": 54,
   "id": "0b0a5757-5470-4436-bbba-f8324670fce4",
   "metadata": {},
   "outputs": [
    {
     "name": "stdout",
     "output_type": "stream",
     "text": [
      "Cantidad de registros con cero en la columna 'age': 0\n",
      "Cantidad de registros con cero en la columna 'sex': 96\n",
      "Cantidad de registros con cero en la columna 'cp': 23\n",
      "Cantidad de registros con cero en la columna 'trestbps': 0\n",
      "Cantidad de registros con cero en la columna 'chol': 0\n",
      "Cantidad de registros con cero en la columna 'fbs': 254\n",
      "Cantidad de registros con cero en la columna 'restecg': 147\n",
      "Cantidad de registros con cero en la columna 'thalach': 0\n",
      "Cantidad de registros con cero en la columna 'exang': 200\n",
      "Cantidad de registros con cero en la columna 'oldpeak': 0\n",
      "Cantidad de registros con cero en la columna 'slope': 139\n",
      "Cantidad de registros con cero en la columna 'ca': 174\n",
      "Cantidad de registros con cero en la columna 'thal': 164\n",
      "Cantidad de registros con cero en la columna 'condition': 160\n"
     ]
    }
   ],
   "source": [
    "# Revisión de datos faltantes\n",
    "columnas_nuevas = ['age', 'sex', 'cp', 'trestbps', 'chol', 'fbs', 'restecg', 'thalach', 'exang', 'oldpeak', 'slope', 'ca', 'thal', 'condition']\n",
    "\n",
    "# Conteo de registros con cero en cada nueva columna\n",
    "registros_con_cero = {}\n",
    "for columna in columnas_nuevas:\n",
    "    # Convertir a string y contar registros con '0'\n",
    "    registros_con_cero[columna] = (Datos[columna].astype(str) == '0').sum()\n",
    "\n",
    "# Mostrar resultados\n",
    "for columna, cantidad in registros_con_cero.items():\n",
    "    print(f\"Cantidad de registros con cero en la columna '{columna}': {cantidad}\")"
   ]
  },
  {
   "cell_type": "code",
   "execution_count": 63,
   "id": "4b848e95-4e7c-4df7-bddc-c624807d73c1",
   "metadata": {},
   "outputs": [],
   "source": [
    "#Remplazar todos los ceros o espacios nulos con el valor medio de las columnas\n",
    "\n",
    "Datos['sex']=Datos['sex'].replace(0,Datos['sex'].mean())\n",
    "Datos['cp']=Datos['sex'].replace(0,Datos['cp'].mean())\n",
    "Datos['fbs']=Datos['sex'].replace(0,Datos['fbs'].mean())\n",
    "Datos['restecg']=Datos['sex'].replace(0,Datos['restecg'].mean())\n",
    "Datos['exang']=Datos['sex'].replace(0,Datos['exang'].mean())\n",
    "Datos['slope']=Datos['sex'].replace(0,Datos['slope'].mean())\n",
    "Datos['ca']=Datos['sex'].replace(0,Datos['ca'].mean())\n",
    "Datos['thal']=Datos['sex'].replace(0,Datos['thal'].mean())\n",
    "Datos['condition']=Datos['sex'].replace(0,Datos['condition'].mean())"
   ]
  },
  {
   "cell_type": "code",
   "execution_count": 64,
   "id": "e0231ee0-4cf3-421c-8a45-bbeb58238105",
   "metadata": {},
   "outputs": [
    {
     "name": "stdout",
     "output_type": "stream",
     "text": [
      "Cantidad de registros con cero en la columna 'age': 0\n",
      "Cantidad de registros con cero en la columna 'sex': 0\n",
      "Cantidad de registros con cero en la columna 'cp': 0\n",
      "Cantidad de registros con cero en la columna 'trestbps': 0\n",
      "Cantidad de registros con cero en la columna 'chol': 0\n",
      "Cantidad de registros con cero en la columna 'fbs': 0\n",
      "Cantidad de registros con cero en la columna 'restecg': 0\n",
      "Cantidad de registros con cero en la columna 'thalach': 0\n",
      "Cantidad de registros con cero en la columna 'exang': 0\n",
      "Cantidad de registros con cero en la columna 'oldpeak': 0\n",
      "Cantidad de registros con cero en la columna 'slope': 0\n",
      "Cantidad de registros con cero en la columna 'ca': 0\n",
      "Cantidad de registros con cero en la columna 'thal': 0\n",
      "Cantidad de registros con cero en la columna 'condition': 0\n"
     ]
    }
   ],
   "source": [
    "# Revisión nuevamente de datos faltantes\n",
    "columnas_nuevas = ['age', 'sex', 'cp', 'trestbps', 'chol', 'fbs', 'restecg', 'thalach', 'exang', 'oldpeak', 'slope', 'ca', 'thal', 'condition']\n",
    "\n",
    "# Conteo de registros con cero en cada nueva columna\n",
    "registros_con_cero = {}\n",
    "for columna in columnas_nuevas:\n",
    "    # Convertir a string y contar registros con '0'\n",
    "    registros_con_cero[columna] = (Datos[columna].astype(str) == '0').sum()\n",
    "\n",
    "# Mostrar resultados\n",
    "for columna, cantidad in registros_con_cero.items():\n",
    "    print(f\"Cantidad de registros con cero en la columna '{columna}': {cantidad}\")"
   ]
  },
  {
   "cell_type": "code",
   "execution_count": 69,
   "id": "923a051f-72e5-49f6-8f0b-db0240359bbb",
   "metadata": {},
   "outputs": [
    {
     "data": {
      "image/png": "[encoded data removed]",
      "text/plain": [
       "<Figure size 800x600 with 1 Axes>"
      ]
     },
     "metadata": {},
     "output_type": "display_data"
    }
   ],
   "source": [
    "#identificación de Datos Faltantes y Atipicos\n",
    "\n",
    "# Crear una figura de matplotlib\n",
    "plt.figure(figsize=(8, 6))  # Tamaño de la figura\n",
    "\n",
    "# Crear un diagrama de caja (boxplot) con Seaborn\n",
    "sns.boxplot(x='chol', data=Datos) \n",
    "\n",
    "# Agregar un título al gráfico con fuente de tamaño 10\n",
    "plt.title('Identificación de Datos Atípicos', fontsize=10)\n",
    "\n",
    "# Mostrar el gráfico\n",
    "plt.show()"
   ]
  },
  {
   "cell_type": "code",
   "execution_count": 72,
   "id": "a3dbd994-45ec-42a4-b994-e34855c0c0f6",
   "metadata": {},
   "outputs": [
    {
     "name": "stdout",
     "output_type": "stream",
     "text": [
      "El total de datos atipicos es 49\n"
     ]
    }
   ],
   "source": [
    "#Conteo de datos atipicos\n",
    "\n",
    "nivel_minimo=200\n",
    "nivel_maximo=500\n",
    "Total_Atipicos=((Datos['chol']<nivel_minimo)|(Datos['chol']>nivel_maximo)).sum()\n",
    "print(\"El total de datos atipicos es {}\".format(Total_Atipicos))"
   ]
  },
  {
   "cell_type": "code",
   "execution_count": 74,
   "id": "c8fda809-b81b-4b60-8196-c07e31047ccf",
   "metadata": {},
   "outputs": [],
   "source": [
    "# Filtrar datos atipicos\n",
    "\n",
    "Datos=Datos [(Datos['chol']<nivel_maximo)&(Datos['chol']>nivel_minimo)]"
   ]
  },
  {
   "cell_type": "code",
   "execution_count": 75,
   "id": "1af8020f-e201-43e2-9f60-7862f8c37213",
   "metadata": {},
   "outputs": [
    {
     "name": "stdout",
     "output_type": "stream",
     "text": [
      "El total de datos atipicos es 0\n"
     ]
    }
   ],
   "source": [
    "# Validar si se removieron los datos atipicos\n",
    "\n",
    "Total_Atipicos=((Datos['chol']<nivel_minimo)|(Datos['chol']>nivel_maximo)).sum()\n",
    "print(\"El total de datos atipicos es {}\".format(Total_Atipicos))"
   ]
  },
  {
   "cell_type": "code",
   "execution_count": 77,
   "id": "cedd00ca-b384-4353-99bf-cf180a614e12",
   "metadata": {},
   "outputs": [
    {
     "name": "stdout",
     "output_type": "stream",
     "text": [
      "<class 'pandas.core.frame.DataFrame'>\n",
      "Index: 247 entries, 0 to 296\n",
      "Data columns (total 14 columns):\n",
      " #   Column     Non-Null Count  Dtype  \n",
      "---  ------     --------------  -----  \n",
      " 0   age        247 non-null    int64  \n",
      " 1   sex        247 non-null    float64\n",
      " 2   cp         247 non-null    float64\n",
      " 3   trestbps   247 non-null    int64  \n",
      " 4   chol       247 non-null    int64  \n",
      " 5   fbs        247 non-null    float64\n",
      " 6   restecg    247 non-null    float64\n",
      " 7   thalach    247 non-null    int64  \n",
      " 8   exang      247 non-null    float64\n",
      " 9   oldpeak    247 non-null    float64\n",
      " 10  slope      247 non-null    float64\n",
      " 11  ca         247 non-null    float64\n",
      " 12  thal       247 non-null    float64\n",
      " 13  condition  247 non-null    float64\n",
      "dtypes: float64(10), int64(4)\n",
      "memory usage: 28.9 KB\n"
     ]
    }
   ],
   "source": [
    "# Revision del tipo de datos y datos faltantes\n",
    "\n",
    "Datos.info()"
   ]
  },
  {
   "cell_type": "raw",
   "id": "8a6c4a36-84f4-4844-baa6-cc91e12657b6",
   "metadata": {},
   "source": [
    "3.Seleccionar las características más relevantes para entrenar el modelo utilizando selección de características"
   ]
  },
  {
   "cell_type": "code",
   "execution_count": 78,
   "id": "65f37096-3b5d-4f85-ab25-5b9e854b9895",
   "metadata": {},
   "outputs": [
    {
     "data": {
      "text/plain": [
       "chol\n",
       "234    6\n",
       "212    5\n",
       "254    5\n",
       "204    5\n",
       "269    5\n",
       "      ..\n",
       "321    1\n",
       "215    1\n",
       "322    1\n",
       "237    1\n",
       "247    1\n",
       "Name: count, Length: 118, dtype: int64"
      ]
     },
     "execution_count": 78,
     "metadata": {},
     "output_type": "execute_result"
    }
   ],
   "source": [
    "# Total de personas con Alto Colesterol\n",
    "\n",
    "Datos['chol'].value_counts()"
   ]
  },
  {
   "cell_type": "code",
   "execution_count": 79,
   "id": "c295124b-465b-4171-b856-75a0cecf7f32",
   "metadata": {},
   "outputs": [
    {
     "data": {
      "text/html": [
       "<div>\n",
       "<style scoped>\n",
       "    .dataframe tbody tr th:only-of-type {\n",
       "        vertical-align: middle;\n",
       "    }\n",
       "\n",
       "    .dataframe tbody tr th {\n",
       "        vertical-align: top;\n",
       "    }\n",
       "\n",
       "    .dataframe thead th {\n",
       "        text-align: right;\n",
       "    }\n",
       "</style>\n",
       "<table border=\"1\" class=\"dataframe\">\n",
       "  <thead>\n",
       "    <tr style=\"text-align: right;\">\n",
       "      <th></th>\n",
       "      <th>chol</th>\n",
       "    </tr>\n",
       "  </thead>\n",
       "  <tbody>\n",
       "    <tr>\n",
       "      <th>0</th>\n",
       "      <td>234</td>\n",
       "    </tr>\n",
       "    <tr>\n",
       "      <th>1</th>\n",
       "      <td>239</td>\n",
       "    </tr>\n",
       "    <tr>\n",
       "      <th>2</th>\n",
       "      <td>226</td>\n",
       "    </tr>\n",
       "    <tr>\n",
       "      <th>3</th>\n",
       "      <td>282</td>\n",
       "    </tr>\n",
       "    <tr>\n",
       "      <th>4</th>\n",
       "      <td>211</td>\n",
       "    </tr>\n",
       "    <tr>\n",
       "      <th>5</th>\n",
       "      <td>227</td>\n",
       "    </tr>\n",
       "    <tr>\n",
       "      <th>6</th>\n",
       "      <td>233</td>\n",
       "    </tr>\n",
       "    <tr>\n",
       "      <th>7</th>\n",
       "      <td>234</td>\n",
       "    </tr>\n",
       "    <tr>\n",
       "      <th>8</th>\n",
       "      <td>240</td>\n",
       "    </tr>\n",
       "    <tr>\n",
       "      <th>9</th>\n",
       "      <td>270</td>\n",
       "    </tr>\n",
       "    <tr>\n",
       "      <th>10</th>\n",
       "      <td>288</td>\n",
       "    </tr>\n",
       "    <tr>\n",
       "      <th>11</th>\n",
       "      <td>273</td>\n",
       "    </tr>\n",
       "    <tr>\n",
       "      <th>12</th>\n",
       "      <td>204</td>\n",
       "    </tr>\n",
       "    <tr>\n",
       "      <th>13</th>\n",
       "      <td>283</td>\n",
       "    </tr>\n",
       "    <tr>\n",
       "      <th>16</th>\n",
       "      <td>298</td>\n",
       "    </tr>\n",
       "    <tr>\n",
       "      <th>17</th>\n",
       "      <td>213</td>\n",
       "    </tr>\n",
       "    <tr>\n",
       "      <th>18</th>\n",
       "      <td>264</td>\n",
       "    </tr>\n",
       "    <tr>\n",
       "      <th>19</th>\n",
       "      <td>244</td>\n",
       "    </tr>\n",
       "    <tr>\n",
       "      <th>21</th>\n",
       "      <td>231</td>\n",
       "    </tr>\n",
       "    <tr>\n",
       "      <th>23</th>\n",
       "      <td>269</td>\n",
       "    </tr>\n",
       "    <tr>\n",
       "      <th>24</th>\n",
       "      <td>302</td>\n",
       "    </tr>\n",
       "    <tr>\n",
       "      <th>25</th>\n",
       "      <td>245</td>\n",
       "    </tr>\n",
       "    <tr>\n",
       "      <th>26</th>\n",
       "      <td>246</td>\n",
       "    </tr>\n",
       "    <tr>\n",
       "      <th>28</th>\n",
       "      <td>281</td>\n",
       "    </tr>\n",
       "    <tr>\n",
       "      <th>29</th>\n",
       "      <td>208</td>\n",
       "    </tr>\n",
       "    <tr>\n",
       "      <th>30</th>\n",
       "      <td>221</td>\n",
       "    </tr>\n",
       "    <tr>\n",
       "      <th>31</th>\n",
       "      <td>284</td>\n",
       "    </tr>\n",
       "    <tr>\n",
       "      <th>32</th>\n",
       "      <td>319</td>\n",
       "    </tr>\n",
       "    <tr>\n",
       "      <th>33</th>\n",
       "      <td>236</td>\n",
       "    </tr>\n",
       "    <tr>\n",
       "      <th>34</th>\n",
       "      <td>261</td>\n",
       "    </tr>\n",
       "    <tr>\n",
       "      <th>35</th>\n",
       "      <td>232</td>\n",
       "    </tr>\n",
       "    <tr>\n",
       "      <th>36</th>\n",
       "      <td>240</td>\n",
       "    </tr>\n",
       "    <tr>\n",
       "      <th>37</th>\n",
       "      <td>294</td>\n",
       "    </tr>\n",
       "    <tr>\n",
       "      <th>38</th>\n",
       "      <td>236</td>\n",
       "    </tr>\n",
       "    <tr>\n",
       "      <th>39</th>\n",
       "      <td>221</td>\n",
       "    </tr>\n",
       "    <tr>\n",
       "      <th>40</th>\n",
       "      <td>250</td>\n",
       "    </tr>\n",
       "    <tr>\n",
       "      <th>41</th>\n",
       "      <td>262</td>\n",
       "    </tr>\n",
       "    <tr>\n",
       "      <th>42</th>\n",
       "      <td>342</td>\n",
       "    </tr>\n",
       "    <tr>\n",
       "      <th>43</th>\n",
       "      <td>309</td>\n",
       "    </tr>\n",
       "    <tr>\n",
       "      <th>44</th>\n",
       "      <td>288</td>\n",
       "    </tr>\n",
       "  </tbody>\n",
       "</table>\n",
       "</div>"
      ],
      "text/plain": [
       "    chol\n",
       "0    234\n",
       "1    239\n",
       "2    226\n",
       "3    282\n",
       "4    211\n",
       "5    227\n",
       "6    233\n",
       "7    234\n",
       "8    240\n",
       "9    270\n",
       "10   288\n",
       "11   273\n",
       "12   204\n",
       "13   283\n",
       "16   298\n",
       "17   213\n",
       "18   264\n",
       "19   244\n",
       "21   231\n",
       "23   269\n",
       "24   302\n",
       "25   245\n",
       "26   246\n",
       "28   281\n",
       "29   208\n",
       "30   221\n",
       "31   284\n",
       "32   319\n",
       "33   236\n",
       "34   261\n",
       "35   232\n",
       "36   240\n",
       "37   294\n",
       "38   236\n",
       "39   221\n",
       "40   250\n",
       "41   262\n",
       "42   342\n",
       "43   309\n",
       "44   288"
      ]
     },
     "execution_count": 79,
     "metadata": {},
     "output_type": "execute_result"
    }
   ],
   "source": [
    "Datos[['chol']].head(40)"
   ]
  },
  {
   "cell_type": "raw",
   "id": "ec075565-9501-49ef-ac10-fd9a743e5018",
   "metadata": {},
   "source": [
    "4. Dividir el dataset en Train y Test para evaluar correctamente el modelo"
   ]
  },
  {
   "cell_type": "code",
   "execution_count": 91,
   "id": "9e24b2a5-d155-4231-8324-e32c764d662c",
   "metadata": {},
   "outputs": [],
   "source": [
    "from sklearn.model_selection import train_test_split\n",
    "\n",
    "# Dividir el conjunto de datos en características (X) y variable objetivo (Y)\n",
    "X = Datos.drop('chol', axis=1)  # Características\n",
    "Y = Datos['chol']  # Variable objetivo\n",
    "\n",
    "# Dividir los datos en conjuntos de entrenamiento y prueba\n",
    "# Usaremos un 75% para entrenamiento y un 25% para prueba\n",
    "# También estableceremos una semilla aleatoria para reproducibilidad\n",
    "X_train, X_test, Y_train, Y_test = train_test_split(X, Y, test_size=0.25, random_state=42)\n",
    "\n",
    "# Ahora tienes X_train y Y_train para el conjunto de entrenamiento, y X_test y Y_test para el conjunto de prueba"
   ]
  },
  {
   "cell_type": "code",
   "execution_count": 92,
   "id": "7feea293-5307-4d41-863a-642bb620c72b",
   "metadata": {},
   "outputs": [
    {
     "name": "stdout",
     "output_type": "stream",
     "text": [
      "     age       sex        cp  trestbps       fbs   restecg  thalach     exang  \\\n",
      "121   51  0.676768  0.676768       140  0.676768  0.676768      142  0.676768   \n",
      "238   56  0.676768  0.676768       134  0.676768  0.676768      150  0.676768   \n",
      "153   37  1.000000  1.000000       130  1.000000  1.000000      187  1.000000   \n",
      "81    67  0.676768  0.676768       152  0.676768  0.676768      172  0.676768   \n",
      "241   55  1.000000  1.000000       160  1.000000  1.000000      145  1.000000   \n",
      "..   ...       ...       ...       ...       ...       ...      ...       ...   \n",
      "126   50  1.000000  1.000000       140  1.000000  1.000000      163  1.000000   \n",
      "16    52  1.000000  1.000000       152  1.000000  1.000000      178  1.000000   \n",
      "108   54  1.000000  1.000000       120  1.000000  1.000000      147  1.000000   \n",
      "216   58  1.000000  1.000000       128  1.000000  1.000000      130  1.000000   \n",
      "122   51  0.676768  0.676768       130  0.676768  0.676768      149  0.676768   \n",
      "\n",
      "     oldpeak     slope        ca      thal  condition  \n",
      "121      1.5  0.676768  0.676768  0.676768   0.676768  \n",
      "238      1.9  0.676768  0.676768  0.676768   0.676768  \n",
      "153      3.5  1.000000  1.000000  1.000000   1.000000  \n",
      "81       0.0  0.676768  0.676768  0.676768   0.676768  \n",
      "241      0.8  1.000000  1.000000  1.000000   1.000000  \n",
      "..       ...       ...       ...       ...        ...  \n",
      "126      0.6  1.000000  1.000000  1.000000   1.000000  \n",
      "16       1.2  1.000000  1.000000  1.000000   1.000000  \n",
      "108      0.4  1.000000  1.000000  1.000000   1.000000  \n",
      "216      3.0  1.000000  1.000000  1.000000   1.000000  \n",
      "122      0.5  0.676768  0.676768  0.676768   0.676768  \n",
      "\n",
      "[185 rows x 13 columns]\n"
     ]
    }
   ],
   "source": [
    "print (X_train)"
   ]
  },
  {
   "cell_type": "raw",
   "id": "1cd38dab-b39f-45ab-a920-dced0cd1de8a",
   "metadata": {},
   "source": [
    "5. Entrenar el modelo configurando los diferentes hiperparámetros"
   ]
  },
  {
   "cell_type": "code",
   "execution_count": 93,
   "id": "ac524225-619f-4c34-9263-d541e90405d2",
   "metadata": {},
   "outputs": [],
   "source": [
    "# Construir el modelo de regresión logística \n",
    "\n",
    "modelo_regresion = LogisticRegression(solver = \"liblinear\") # liblinear es una libreria para resolver problemas lineales de clasificación y regresión\n",
    "modelo_regresion.fit (X_train , Y_train)   \n",
    "\n",
    "# Crea el modelo de prediccion\n",
    "Prediccion = modelo_regresion.predict(X_test) # la función predict predice los valores a partir del conjunto de datos de validación"
   ]
  },
  {
   "cell_type": "code",
   "execution_count": 94,
   "id": "cc10fe15-94d4-4132-a5e6-858a8cad28e5",
   "metadata": {},
   "outputs": [
    {
     "name": "stdout",
     "output_type": "stream",
     "text": [
      "38     236.0\n",
      "6      233.0\n",
      "219    225.0\n",
      "100    224.0\n",
      "189    294.0\n",
      "       ...  \n",
      "200    258.0\n",
      "113    201.0\n",
      "187    267.0\n",
      "87     335.0\n",
      "96     218.0\n",
      "Name: chol, Length: 62, dtype: float64\n"
     ]
    }
   ],
   "source": [
    "print (Y_test)"
   ]
  },
  {
   "cell_type": "code",
   "execution_count": 95,
   "id": "d7b1787a-105c-47b1-ba32-8d2008fa854e",
   "metadata": {},
   "outputs": [
    {
     "name": "stdout",
     "output_type": "stream",
     "text": [
      "[230. 282. 228. 250. 269. 269. 327. 234. 298. 226. 282. 234. 298. 229.\n",
      " 269. 204. 204. 282. 274. 234. 204. 265. 298. 229. 298. 269. 282. 226.\n",
      " 226. 240. 204. 298. 204. 234. 283. 250. 234. 298. 204. 236. 204. 226.\n",
      " 204. 234. 282. 204. 234. 269. 230. 282. 269. 236. 282. 282. 204. 269.\n",
      " 283. 254. 283. 254. 234. 254.]\n"
     ]
    }
   ],
   "source": [
    "print (Prediccion)"
   ]
  },
  {
   "cell_type": "raw",
   "id": "7dad5bcc-b056-40ce-b80e-923fbd6a83d8",
   "metadata": {},
   "source": [
    "6. Evaluar el desempeño del modelo en el conjunto de Test con métricas como precisión, recall, F1-score, etc"
   ]
  },
  {
   "cell_type": "code",
   "execution_count": 102,
   "id": "d38d56e6-7c1c-4611-98e9-56273c86131a",
   "metadata": {},
   "outputs": [
    {
     "name": "stdout",
     "output_type": "stream",
     "text": [
      "              precision    recall  f1-score   support\n",
      "\n",
      "       201.0       0.00      0.00      0.00       0.0\n",
      "       203.0       0.00      0.00      0.00       0.0\n",
      "       204.0       0.00      0.00      0.00       0.0\n",
      "       205.0       0.00      0.00      0.00       0.0\n",
      "       208.0       0.00      0.00      0.00       1.0\n",
      "       209.0       0.00      0.00      0.00       1.0\n",
      "       210.0       0.00      0.00      0.00       1.0\n",
      "       211.0       0.00      0.00      0.00       1.0\n",
      "       212.0       0.00      0.00      0.00       2.0\n",
      "       213.0       0.00      0.00      0.00       2.0\n",
      "       215.0       0.00      0.00      0.00       0.0\n",
      "       217.0       0.00      0.00      0.00       1.0\n",
      "       219.0       0.00      0.00      0.00       1.0\n",
      "       221.0       0.00      0.00      0.00       1.0\n",
      "       222.0       0.00      0.00      0.00       0.0\n",
      "       223.0       0.00      0.00      0.00       1.0\n",
      "       224.0       0.00      0.00      0.00       1.0\n",
      "       225.0       0.00      0.00      0.00       1.0\n",
      "       226.0       0.00      0.00      0.00       0.0\n",
      "       227.0       0.00      0.00      0.00       0.0\n",
      "       230.0       0.00      0.00      0.00       0.0\n",
      "       231.0       0.00      0.00      0.00       2.0\n",
      "       232.0       0.00      0.00      0.00       1.0\n",
      "       233.0       0.00      0.00      0.00       1.0\n",
      "       235.0       0.00      0.00      0.00       0.0\n",
      "       236.0       0.00      0.00      0.00       1.0\n",
      "       239.0       0.00      0.00      0.00       1.0\n",
      "       240.0       0.00      0.00      0.00       1.0\n",
      "       242.0       0.00      0.00      0.00       0.0\n",
      "       243.0       0.00      0.00      0.00       1.0\n",
      "       244.0       0.00      0.00      0.00       1.0\n",
      "       245.0       0.00      0.00      0.00       0.0\n",
      "       248.0       0.00      0.00      0.00       1.0\n",
      "       249.0       0.00      0.00      0.00       1.0\n",
      "       250.0       0.00      0.00      0.00       0.0\n",
      "       254.0       0.00      0.00      0.00       2.0\n",
      "       255.0       0.00      0.00      0.00       1.0\n",
      "       257.0       0.00      0.00      0.00       1.0\n",
      "       258.0       0.00      0.00      0.00       0.0\n",
      "       260.0       0.00      0.00      0.00       1.0\n",
      "       261.0       0.00      0.00      0.00       1.0\n",
      "       262.0       0.00      0.00      0.00       0.0\n",
      "       263.0       0.00      0.00      0.00       0.0\n",
      "       264.0       0.00      0.00      0.00       1.0\n",
      "       265.0       0.00      0.00      0.00       0.0\n",
      "       267.0       0.00      0.00      0.00       1.0\n",
      "       268.0       0.00      0.00      0.00       0.0\n",
      "       269.0       0.00      0.00      0.00       1.0\n",
      "       270.0       0.00      0.00      0.00       2.0\n",
      "       271.0       0.00      0.00      0.00       1.0\n",
      "       275.0       0.00      0.00      0.00       0.0\n",
      "       276.0       0.00      0.00      0.00       0.0\n",
      "       277.0       0.00      0.00      0.00       1.0\n",
      "       282.0       0.00      0.00      0.00       0.0\n",
      "       288.0       0.00      0.00      0.00       2.0\n",
      "       294.0       0.00      0.00      0.00       1.0\n",
      "       295.0       0.00      0.00      0.00       2.0\n",
      "       298.0       0.00      0.00      0.00       0.0\n",
      "       300.0       0.00      0.00      0.00       1.0\n",
      "       302.0       0.00      0.00      0.00       0.0\n",
      "       303.0       0.00      0.00      0.00       0.0\n",
      "       304.0       0.00      0.00      0.00       0.0\n",
      "       305.0       0.00      0.00      0.00       1.0\n",
      "       308.0       0.00      0.00      0.00       0.0\n",
      "       309.0       0.00      0.00      0.00       2.0\n",
      "       311.0       0.00      0.00      0.00       0.0\n",
      "       315.0       0.00      0.00      0.00       1.0\n",
      "       321.0       0.00      0.00      0.00       0.0\n",
      "       325.0       0.00      0.00      0.00       0.0\n",
      "       326.0       0.00      0.00      0.00       0.0\n",
      "       327.0       0.00      0.00      0.00       0.0\n",
      "       341.0       0.00      0.00      0.00       1.0\n",
      "       353.0       0.00      0.00      0.00       1.0\n",
      "       354.0       0.00      0.00      0.00       0.0\n",
      "       394.0       0.00      0.00      0.00       0.0\n",
      "\n",
      "    accuracy                           0.00      50.0\n",
      "   macro avg       0.00      0.00      0.00      50.0\n",
      "weighted avg       0.00      0.00      0.00      50.0\n",
      "\n"
     ]
    },
    {
     "name": "stderr",
     "output_type": "stream",
     "text": [
      "C:\\Users\\Skigdot\\anaconda3\\Lib\\site-packages\\sklearn\\metrics\\_classification.py:1344: UndefinedMetricWarning: Precision and F-score are ill-defined and being set to 0.0 in labels with no predicted samples. Use `zero_division` parameter to control this behavior.\n",
      "  _warn_prf(average, modifier, msg_start, len(result))\n",
      "C:\\Users\\Skigdot\\anaconda3\\Lib\\site-packages\\sklearn\\metrics\\_classification.py:1344: UndefinedMetricWarning: Recall and F-score are ill-defined and being set to 0.0 in labels with no true samples. Use `zero_division` parameter to control this behavior.\n",
      "  _warn_prf(average, modifier, msg_start, len(result))\n",
      "C:\\Users\\Skigdot\\anaconda3\\Lib\\site-packages\\sklearn\\metrics\\_classification.py:1344: UndefinedMetricWarning: Precision and F-score are ill-defined and being set to 0.0 in labels with no predicted samples. Use `zero_division` parameter to control this behavior.\n",
      "  _warn_prf(average, modifier, msg_start, len(result))\n",
      "C:\\Users\\Skigdot\\anaconda3\\Lib\\site-packages\\sklearn\\metrics\\_classification.py:1344: UndefinedMetricWarning: Recall and F-score are ill-defined and being set to 0.0 in labels with no true samples. Use `zero_division` parameter to control this behavior.\n",
      "  _warn_prf(average, modifier, msg_start, len(result))\n",
      "C:\\Users\\Skigdot\\anaconda3\\Lib\\site-packages\\sklearn\\metrics\\_classification.py:1344: UndefinedMetricWarning: Precision and F-score are ill-defined and being set to 0.0 in labels with no predicted samples. Use `zero_division` parameter to control this behavior.\n",
      "  _warn_prf(average, modifier, msg_start, len(result))\n",
      "C:\\Users\\Skigdot\\anaconda3\\Lib\\site-packages\\sklearn\\metrics\\_classification.py:1344: UndefinedMetricWarning: Recall and F-score are ill-defined and being set to 0.0 in labels with no true samples. Use `zero_division` parameter to control this behavior.\n",
      "  _warn_prf(average, modifier, msg_start, len(result))\n"
     ]
    }
   ],
   "source": [
    "# Paso 1: Dividir el conjunto de datos en entrenamiento y prueba\n",
    "from sklearn.model_selection import train_test_split\n",
    "X_train, X_test, y_train, y_test = train_test_split(X, y, test_size=0.2, random_state=42)\n",
    "\n",
    "# Paso 2: Entrenar un modelo (por ejemplo, un clasificador)\n",
    "from sklearn.ensemble import RandomForestClassifier\n",
    "modelo = RandomForestClassifier()\n",
    "modelo.fit(X_train, y_train)\n",
    "\n",
    "# Paso 3: Evaluar el rendimiento del modelo\n",
    "from sklearn.metrics import classification_report\n",
    "y_pred = modelo.predict(X_test)\n",
    "print(classification_report(y_test, y_pred))"
   ]
  },
  {
   "cell_type": "raw",
   "id": "352bb9da-786f-4c9e-964b-d4c90aa514ea",
   "metadata": {},
   "source": [
    "7. Realizar las diferentes gráficas que permitan visualizar los resultados del modelo"
   ]
  },
  {
   "cell_type": "code",
   "execution_count": 103,
   "id": "db4c1435-dc43-4453-99f8-9a53b30659cd",
   "metadata": {},
   "outputs": [
    {
     "data": {
      "text/plain": [
       "<sklearn.metrics._plot.confusion_matrix.ConfusionMatrixDisplay at 0x12faf5b9810>"
      ]
     },
     "execution_count": 103,
     "metadata": {},
     "output_type": "execute_result"
    },
    {
     "data": {
      "image/png": "[encoded data removed]",
      "text/plain": [
       "<Figure size 640x480 with 2 Axes>"
      ]
     },
     "metadata": {},
     "output_type": "display_data"
    }
   ],
   "source": [
    "#Matrix de Confusión del modelo\n",
    "\n",
    "cm=confusion_matrix(Y_test,Prediccion)\n",
    "disp=metrics.ConfusionMatrixDisplay(confusion_matrix=cm)\n",
    "disp.plot()"
   ]
  },
  {
   "cell_type": "code",
   "execution_count": 122,
   "id": "f756d55c-3cec-439b-947f-dc55697f246e",
   "metadata": {
    "scrolled": true
   },
   "outputs": [
    {
     "data": {
      "image/png": "[encoded data removed]",
      "text/plain": [
       "<Figure size 640x480 with 1 Axes>"
      ]
     },
     "metadata": {},
     "output_type": "display_data"
    }
   ],
   "source": [
    "# Definir umbral para colesterol alto y bajo\n",
    "umbral = 240\n",
    "\n",
    "# Convertir valores continuos en binarios\n",
    "y_binario = np.where(Y_test >= umbral, 1, 0)\n",
    "prediccion_binaria = np.where(Prediccion >= umbral, 1, 0)\n",
    "\n",
    "# Calcular la curva ROC\n",
    "fpr, tpr, thresholds = roc_curve(y_binario, Prediccion)\n",
    "\n",
    "# Calcular el área bajo la curva (AUC)\n",
    "roc_auc = auc(fpr, tpr)\n",
    "\n",
    "# Visualizar la curva ROC\n",
    "plt.figure()\n",
    "plt.plot(fpr, tpr, color='darkorange', lw=2, label='ROC curve (area = %0.2f)' % roc_auc)\n",
    "plt.plot([0, 1], [0, 1], color='navy', lw=2, linestyle='--')\n",
    "plt.xlim([0.0, 1.0])\n",
    "plt.ylim([0.0, 1.05])\n",
    "plt.xlabel('False Positive Rate')\n",
    "plt.ylabel('True Positive Rate')\n",
    "plt.title('Receiver Operating Characteristic (ROC)')\n",
    "plt.legend(loc=\"lower right\")\n",
    "plt.show()"
   ]
  },
  {
   "cell_type": "code",
   "execution_count": null,
   "id": "c33be735-d05d-402f-ac3c-19a42de3437e",
   "metadata": {},
   "outputs": [],
   "source": []
  }
 ],
 "metadata": {
  "kernelspec": {
   "display_name": "Python 3 (ipykernel)",
   "language": "python",
   "name": "python3"
  },
  "language_info": {
   "codemirror_mode": {
    "name": "ipython",
    "version": 3
   },
   "file_extension": ".py",
   "mimetype": "text/x-python",
   "name": "python",
   "nbconvert_exporter": "python",
   "pygments_lexer": "ipython3",
   "version": "3.11.7"
  }
 },
 "nbformat": 4,
 "nbformat_minor": 5
}
